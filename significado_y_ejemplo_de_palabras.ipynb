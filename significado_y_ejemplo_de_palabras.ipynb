{
  "nbformat": 4,
  "nbformat_minor": 0,
  "metadata": {
    "colab": {
      "provenance": []
    },
    "kernelspec": {
      "name": "python3",
      "display_name": "Python 3"
    },
    "language_info": {
      "name": "python"
    }
  },
  "cells": [
    {
      "cell_type": "markdown",
      "source": [
        "##False y True"
      ],
      "metadata": {
        "id": "rNDk-lSgM_k-"
      }
    },
    {
      "cell_type": "markdown",
      "source": [
        "Son variables booleanas osea solo existen 2 respuesta falso y verdadero. En general los elementos nulos o vacíos se consideran como False y el resto se consideran True.\n"
      ],
      "metadata": {
        "id": "_9N0UWyKNF3O"
      }
    },
    {
      "cell_type": "code",
      "source": [
        "4 > 3 and 4 < 5"
      ],
      "metadata": {
        "colab": {
          "base_uri": "https://localhost:8080/"
        },
        "id": "ZAU4AM4INBOH",
        "outputId": "a5025e2c-83ec-46b3-860b-609fbd732d23"
      },
      "execution_count": null,
      "outputs": [
        {
          "output_type": "execute_result",
          "data": {
            "text/plain": [
              "True"
            ]
          },
          "metadata": {},
          "execution_count": 2
        }
      ]
    },
    {
      "cell_type": "code",
      "source": [
        "4 < 5 and 4 > 5"
      ],
      "metadata": {
        "colab": {
          "base_uri": "https://localhost:8080/"
        },
        "id": "bb-TQF1jPtB0",
        "outputId": "5c827a8f-8d9f-4a73-b13f-a09b51e7c86c"
      },
      "execution_count": null,
      "outputs": [
        {
          "output_type": "execute_result",
          "data": {
            "text/plain": [
              "False"
            ]
          },
          "metadata": {},
          "execution_count": 4
        }
      ]
    },
    {
      "cell_type": "markdown",
      "source": [
        "##Break, Continue y Pass"
      ],
      "metadata": {
        "id": "rjMCYVT_P_QU"
      }
    },
    {
      "cell_type": "markdown",
      "source": [
        "la instrucción break le proporciona la oportunidad de cerrar un bucle cuando se activa una condición externa."
      ],
      "metadata": {
        "id": "aANq53CpRvE8"
      }
    },
    {
      "cell_type": "code",
      "source": [
        "number = 0\n",
        "\n",
        "for number in range(10):\n",
        "    if number == 5:\n",
        "        break    # break here\n",
        "\n",
        "    print('Number is ' + str(number))\n",
        "\n",
        "print('Out of loop')"
      ],
      "metadata": {
        "colab": {
          "base_uri": "https://localhost:8080/"
        },
        "id": "AKrAQLfJRvut",
        "outputId": "434bd7fd-3291-4848-adcf-4ca6d1b37367"
      },
      "execution_count": null,
      "outputs": [
        {
          "output_type": "stream",
          "name": "stdout",
          "text": [
            "Number is 0\n",
            "Number is 1\n",
            "Number is 2\n",
            "Number is 3\n",
            "Number is 4\n",
            "Out of loop\n"
          ]
        }
      ]
    },
    {
      "cell_type": "markdown",
      "source": [
        "La instrucción continue da la opción de omitir la parte de un bucle en la que se activa una condición externa, pero continuar para completar el resto del bucle. Es decir, la iteración actual del bucle se interrumpirá, pero el programa volverá a la parte superior del bucle."
      ],
      "metadata": {
        "id": "QpB7dpZbSTFx"
      }
    },
    {
      "cell_type": "code",
      "source": [
        "number = 0\n",
        "\n",
        "for number in range(10):\n",
        "    if number == 5:\n",
        "        continue    # continue here\n",
        "\n",
        "    print('Number is ' + str(number))\n",
        "\n",
        "print('Out of loop')"
      ],
      "metadata": {
        "colab": {
          "base_uri": "https://localhost:8080/"
        },
        "id": "6TLE-2qBSZEG",
        "outputId": "605ca103-0181-4d44-f782-431aff8c837b"
      },
      "execution_count": null,
      "outputs": [
        {
          "output_type": "stream",
          "name": "stdout",
          "text": [
            "Number is 0\n",
            "Number is 1\n",
            "Number is 2\n",
            "Number is 3\n",
            "Number is 4\n",
            "Number is 6\n",
            "Number is 7\n",
            "Number is 8\n",
            "Number is 9\n",
            "Out of loop\n"
          ]
        }
      ]
    },
    {
      "cell_type": "markdown",
      "source": [
        "la instrucción pass permite manejar la condición sin que el bucle se vea afectado de ninguna manera; todo el código continuará leyéndose a menos que se produzca la instrucción break u otra instrucción."
      ],
      "metadata": {
        "id": "t_EG4nBvSknD"
      }
    },
    {
      "cell_type": "code",
      "source": [
        "number = 0\n",
        "\n",
        "for number in range(10):\n",
        "    if number == 5:\n",
        "        pass    # pass here\n",
        "\n",
        "    print('Number is ' + str(number))\n",
        "\n",
        "print('Out of loop')\n"
      ],
      "metadata": {
        "colab": {
          "base_uri": "https://localhost:8080/"
        },
        "id": "JgXgPaNCSiZF",
        "outputId": "f608d7b8-726d-4b6c-c9c0-56c50d0cdb37"
      },
      "execution_count": null,
      "outputs": [
        {
          "output_type": "stream",
          "name": "stdout",
          "text": [
            "Number is 0\n",
            "Number is 1\n",
            "Number is 2\n",
            "Number is 3\n",
            "Number is 4\n",
            "Number is 5\n",
            "Number is 6\n",
            "Number is 7\n",
            "Number is 8\n",
            "Number is 9\n",
            "Out of loop\n"
          ]
        }
      ]
    },
    {
      "cell_type": "code",
      "source": [],
      "metadata": {
        "id": "5e3JcZOTSpQf"
      },
      "execution_count": null,
      "outputs": []
    },
    {
      "cell_type": "markdown",
      "source": [
        "##If, Elif y Else"
      ],
      "metadata": {
        "id": "hw2CTZjA5AFi"
      }
    },
    {
      "cell_type": "markdown",
      "source": [
        "if se usa para tomar decisiones, este evaluá básicamente una operación lógica, es decir una expresión que de como resultado True o False."
      ],
      "metadata": {
        "id": "2ufzKbUM5buK"
      }
    },
    {
      "cell_type": "code",
      "source": [
        "x = 34\n",
        "if x %  2 == 0:  # así es como creas un comentario y ahora comprueba número par.\n",
        "  if x > 10:\n",
        "    print(\"Este número es par y es mayor que 10\")\n",
        "  else:\n",
        "    print(\"Este número es par, pero no mayor 10\")\n",
        "else:\n",
        "  print (\"El número no es par. Así que punto de verificación más.\")"
      ],
      "metadata": {
        "colab": {
          "base_uri": "https://localhost:8080/"
        },
        "id": "7ic6dASC5ES9",
        "outputId": "3f0c118f-3e43-4f46-9072-253d461e55c7"
      },
      "execution_count": null,
      "outputs": [
        {
          "output_type": "stream",
          "name": "stdout",
          "text": [
            "Este número es par y es mayor que 10\n"
          ]
        }
      ]
    },
    {
      "cell_type": "markdown",
      "source": [
        "Elif sirve para enlazar varios \"else if\", sin tener que aumentar las tabulaciones en cada nueva comparación."
      ],
      "metadata": {
        "id": "k7a-jrnE7J6W"
      }
    },
    {
      "cell_type": "code",
      "source": [
        "z = 7\n",
        "\n",
        "if z > 8:\n",
        "  print(\"¡No voy a imprimir!\") #esta sentencia no se ejecuta\n",
        "elif z > 5:\n",
        "  print(\"¡Yo lo haré!\") #esta sentencia se ejecuta\n",
        "elif z > 6:\n",
        "  print(\"¡Tampoco voy a imprimir!\") #esta sentencia no se ejecuta\n",
        "else:\n",
        "  print(\"¡Yo tampoco!\") #esta sentencia no se ejecuta"
      ],
      "metadata": {
        "colab": {
          "base_uri": "https://localhost:8080/"
        },
        "id": "7FM1Se3S6yab",
        "outputId": "d9c0aa59-eb60-46b2-de28-8debc95ad647"
      },
      "execution_count": null,
      "outputs": [
        {
          "output_type": "stream",
          "name": "stdout",
          "text": [
            "¡Yo lo haré!\n"
          ]
        }
      ]
    },
    {
      "cell_type": "markdown",
      "source": [
        " Else prueba una condición, luego devuelve un valor basado en el resultado de esa condición."
      ],
      "metadata": {
        "id": "mnP5JO_l_pwN"
      }
    },
    {
      "cell_type": "code",
      "source": [
        "if not True:\n",
        "  print('¡La sentencia If se ejecutará!')\n",
        "else:\n",
        "  print('¡La sentencia Else se ejecutará!')"
      ],
      "metadata": {
        "colab": {
          "base_uri": "https://localhost:8080/"
        },
        "id": "KbR-Ayp2Ca6p",
        "outputId": "802bb1fc-183e-4300-f3d4-32a3a90d90bd"
      },
      "execution_count": null,
      "outputs": [
        {
          "output_type": "stream",
          "name": "stdout",
          "text": [
            "¡La sentencia Else se ejecutará!\n"
          ]
        }
      ]
    },
    {
      "cell_type": "code",
      "source": [],
      "metadata": {
        "id": "-qMi20WRCz03"
      },
      "execution_count": null,
      "outputs": []
    },
    {
      "cell_type": "markdown",
      "source": [
        "##and y or"
      ],
      "metadata": {
        "id": "wzkp50lqgzag"
      }
    },
    {
      "cell_type": "markdown",
      "source": [
        "and sirve para agregar otra condicion y las dos deben cumplirse"
      ],
      "metadata": {
        "id": "tStSy75fhTKO"
      }
    },
    {
      "cell_type": "code",
      "source": [
        "print(\"escogi dos numero de 1 a 10 adivinalos\")\n",
        "a=int(input())\n",
        "b=int(input())\n",
        "if a==3 and b==8:\n",
        "  print(\"felicitaciones adivinaste los 2 numeros\")\n",
        "else:\n",
        "  print(\"no adivino los dos numeros\")"
      ],
      "metadata": {
        "colab": {
          "base_uri": "https://localhost:8080/"
        },
        "id": "ahzkBjX6hSLK",
        "outputId": "cd7ba11d-9631-4b21-fe48-8ca51e0ea8b9"
      },
      "execution_count": null,
      "outputs": [
        {
          "output_type": "stream",
          "name": "stdout",
          "text": [
            "escogi dos numero de 1 a 10 adivinalos\n",
            "3\n",
            "8\n",
            "felicitaciones adivinaste los 2 numeros\n"
          ]
        }
      ]
    },
    {
      "cell_type": "markdown",
      "source": [
        "and sirve para agregar otra condicion y las dos deben cumplirse"
      ],
      "metadata": {
        "id": "MtCzYM4rkCgB"
      }
    },
    {
      "cell_type": "code",
      "source": [
        "print(\"escogi dos numero de 1 a 10 adivinalos\")\n",
        "a=int(input())\n",
        "b=int(input())\n",
        "if a==3 or b==8:\n",
        "  print(\"felicitaciones adivinas uno o los 2 numeros\")\n",
        "else:\n",
        "  print(\"no adivino los dos numeros\")"
      ],
      "metadata": {
        "id": "7cDZxichkPe-"
      },
      "execution_count": null,
      "outputs": []
    },
    {
      "cell_type": "markdown",
      "source": [
        "##import "
      ],
      "metadata": {
        "id": "KXc-dES2lIPn"
      }
    },
    {
      "cell_type": "markdown",
      "source": [
        "La instrucción `import seguida de nombre_del_paquete. nombre_del_modulo, nos permitirá hacer uso de todo el código que dicho módulo contenga."
      ],
      "metadata": {
        "id": "ALFF_1-RmAkD"
      }
    },
    {
      "cell_type": "code",
      "source": [
        "import sympy as sp \n",
        "x = sp.Symbol('x') \n",
        "y=3*x \n",
        "sp.integrate(y,(x,5,7))"
      ],
      "metadata": {
        "id": "T85yMWL-la8Z",
        "colab": {
          "base_uri": "https://localhost:8080/",
          "height": 37
        },
        "outputId": "2abbf4f9-ce66-4563-e68d-88d6c01213e2"
      },
      "execution_count": null,
      "outputs": [
        {
          "output_type": "execute_result",
          "data": {
            "text/plain": [
              "36"
            ],
            "text/latex": "$\\displaystyle 36$"
          },
          "metadata": {},
          "execution_count": 23
        }
      ]
    },
    {
      "cell_type": "markdown",
      "source": [
        "##With"
      ],
      "metadata": {
        "id": "hS7A3nHlocuX"
      }
    },
    {
      "cell_type": "markdown",
      "source": [
        "La sentencia with se usa para ajustar la ejecución de un bloque con métodos definidos por un administrador de contexto (ver sección Gestores de Contexto en la Declaración with)."
      ],
      "metadata": {
        "id": "7Nf6emkAogJq"
      }
    },
    {
      "cell_type": "code",
      "source": [
        "with open('file_path', 'w') as file:\n",
        "    file.write('hello world !')"
      ],
      "metadata": {
        "id": "kJ6S4LvqmXHF"
      },
      "execution_count": 2,
      "outputs": []
    },
    {
      "cell_type": "markdown",
      "source": [
        "##Finally, try y except"
      ],
      "metadata": {
        "id": "tbm-6EBFpZc3"
      }
    },
    {
      "cell_type": "markdown",
      "source": [
        " La particularidad del bloque finally es que se ejecuta siempre, haya surgido una excepción o no."
      ],
      "metadata": {
        "id": "YHppfgQ7p_nW"
      }
    },
    {
      "cell_type": "code",
      "source": [
        "try:\n",
        "    archi1=open(\"datos.txt\",\"w\") \n",
        "    archi1.write(\"Primer línea.\\n\") \n",
        "    archi1.write(\"Segunda línea.\\n\") \n",
        "    archi1.write(\"Tercer línea.\\n\")  \n",
        "    archi1.write(3334)\n",
        "except TypeError:\n",
        "    print(\"No se puede grabar un entero con write\")    \n",
        "finally:\n",
        "    archi1.close() \n",
        "    print(\"Se cerró el archivo\")"
      ],
      "metadata": {
        "id": "796JvJtTp-5p",
        "colab": {
          "base_uri": "https://localhost:8080/"
        },
        "outputId": "db0e29db-5694-4e99-cc18-ecaf9bf77935"
      },
      "execution_count": null,
      "outputs": [
        {
          "output_type": "stream",
          "name": "stdout",
          "text": [
            "No se puede grabar un entero con write\n",
            "Se cerró el archivo\n"
          ]
        }
      ]
    },
    {
      "cell_type": "markdown",
      "source": [
        "EL bloque try es el bloque con las sentencias que quieres ejecutar. Sin embargo, podrían llegar a haber errores de ejecución y el bloque se dejará de ejecutarse. El bloque except se ejecutará cuando el bloque try falle debido a un error."
      ],
      "metadata": {
        "id": "9LOMgBtRa1Ty"
      }
    },
    {
      "cell_type": "code",
      "source": [
        "mi_lista = [\"Python\",\"C\",\"C++\",\"JavaScript\"]\n",
        "buscar_ind = 4\n",
        "try:\n",
        "  print(mi_lista[buscar_ind])\n",
        "except IndexError:\n",
        "  print(\"Lo siento, el indice esta fuera de rango\")"
      ],
      "metadata": {
        "colab": {
          "base_uri": "https://localhost:8080/"
        },
        "id": "Gi1t22_3MFG5",
        "outputId": "98b984a5-3da0-417e-eae4-b4d42f1d4435"
      },
      "execution_count": null,
      "outputs": [
        {
          "output_type": "stream",
          "name": "stdout",
          "text": [
            "Lo siento, el indice esta fuera de rango\n"
          ]
        }
      ]
    },
    {
      "cell_type": "markdown",
      "source": [
        "El bloque except se ejecutará cuando el bloque try falle debido a un error. Este bloque contiene sentencias que generalmente nos dan un contexto de lo que salió mal en el bloque try."
      ],
      "metadata": {
        "id": "GAchPXBGbB25"
      }
    },
    {
      "cell_type": "code",
      "source": [
        "def mas_10(num):\n",
        "  return num + 10\n",
        "resultado = mas_10(89)\n",
        "print(resultado)\n",
        "mi_num = \"cinco\"\n",
        "try:\n",
        "  resultado = mas_10(mi_num)\n",
        "  print(resultado)\n",
        "except TypeError:\n",
        "  print(\"El argumento `mi_num` deberia ser un número\")"
      ],
      "metadata": {
        "colab": {
          "base_uri": "https://localhost:8080/"
        },
        "id": "2QrjBENMbVTN",
        "outputId": "0e07a3aa-b1e3-4f16-a003-8c8dd39a27b8"
      },
      "execution_count": null,
      "outputs": [
        {
          "output_type": "stream",
          "name": "stdout",
          "text": [
            "99\n",
            "El argumento `mi_num` deberia ser un número\n"
          ]
        }
      ]
    },
    {
      "cell_type": "markdown",
      "source": [
        "##class"
      ],
      "metadata": {
        "id": "OmDq1jN-Mi5X"
      }
    },
    {
      "cell_type": "markdown",
      "source": [
        "Las clases proveen una forma de empaquetar datos y funcionalidad juntos. Al crear una nueva clase, se crea un nuevo tipo de objeto, permitiendo crear nuevas instancias de ese tipo. Cada instancia de clase puede tener atributos adjuntos para mantener su estado."
      ],
      "metadata": {
        "id": "m-orJHYzMy4w"
      }
    },
    {
      "cell_type": "code",
      "source": [
        "class MyClass:\n",
        "    \"\"\"A simple example class\"\"\"\n",
        "    i = 12345\n",
        "\n",
        "    def f(self):\n",
        "        return 'hello world'"
      ],
      "metadata": {
        "id": "NvC7qmwvMz--"
      },
      "execution_count": null,
      "outputs": []
    },
    {
      "cell_type": "markdown",
      "source": [
        "##lambda"
      ],
      "metadata": {
        "id": "1jSs_FvGObEJ"
      }
    },
    {
      "cell_type": "markdown",
      "source": [
        "Las expresiones lambda en Python son una forma corta de declarar funciones pequeñas y anónimas (no es necesario proporcionar un nombre para las funciones lambda). Las funciones Lambda se comportan como funciones normales declaradas con la palabra clave def ."
      ],
      "metadata": {
        "id": "VzPcTlVvOemG"
      }
    },
    {
      "cell_type": "code",
      "source": [
        "# Función Lambda para calcular el cuadrado de un número\n",
        "square = lambda x: x ** 2\n",
        "print(square(3)) # Resultado: 9\n",
        "\n",
        "# Funcion tradicional para calcular el cuadrado de un numero\n",
        "def square1(num):\n",
        "  return num ** 2\n",
        "print(square(5)) # Resultado: 25"
      ],
      "metadata": {
        "colab": {
          "base_uri": "https://localhost:8080/"
        },
        "id": "jxnGL_I7Od84",
        "outputId": "3514ed0d-b881-4462-e326-7dfa77f521cb"
      },
      "execution_count": null,
      "outputs": [
        {
          "output_type": "stream",
          "name": "stdout",
          "text": [
            "9\n",
            "25\n"
          ]
        }
      ]
    },
    {
      "cell_type": "markdown",
      "source": [
        "##def"
      ],
      "metadata": {
        "id": "S-jN5k5KRxRb"
      }
    },
    {
      "cell_type": "markdown",
      "source": [
        "def es una palabra reservada que indica a Python que una nueva función está siendo definida. Luego viene una función con un nombre válido de tu elección. Los nombres válidos empiezan con una letra o un guion bajo, pero pueden incluir números."
      ],
      "metadata": {
        "id": "oyxi2t90Ry2f"
      }
    },
    {
      "cell_type": "code",
      "source": [
        "def hola_mundo_func():\n",
        "    print(\"hola mundo\")"
      ],
      "metadata": {
        "id": "R7zYvZAWRyKu"
      },
      "execution_count": null,
      "outputs": []
    },
    {
      "cell_type": "markdown",
      "source": [
        "##Global"
      ],
      "metadata": {
        "id": "cKcrN2oLXqZE"
      }
    },
    {
      "cell_type": "markdown",
      "source": [
        "Las variables globales son las variables con alcance global. El alcance global significa que la variable es accesible desde cualquier lugar del programa. Las variables globales se declaran fuera de las funciones ya que su alcance no se limita a ninguna función."
      ],
      "metadata": {
        "id": "DL37hih5XsmP"
      }
    },
    {
      "cell_type": "code",
      "source": [
        "date = \"17-06-2002\"\n",
        "\n",
        "def update_date():\n",
        "  global date \n",
        "  date = \"12-03-2021\"\n",
        "\n",
        "update_date()\n",
        "print(date)"
      ],
      "metadata": {
        "colab": {
          "base_uri": "https://localhost:8080/"
        },
        "id": "Vqn3IdUGXr5o",
        "outputId": "5cc1410f-9e2d-4858-f60f-b563a9579c80"
      },
      "execution_count": null,
      "outputs": [
        {
          "output_type": "stream",
          "name": "stdout",
          "text": [
            "12-03-2021\n"
          ]
        }
      ]
    },
    {
      "cell_type": "markdown",
      "source": [
        "##assert"
      ],
      "metadata": {
        "id": "X2GYNQYcZCb9"
      }
    },
    {
      "cell_type": "markdown",
      "source": [
        "El uso de assert en Python nos permite realizar comprobaciones. Si la expresión contenida dentro del mismo es False, se lanzará una excepción, concretamente AssertionError."
      ],
      "metadata": {
        "id": "v0N97uy2ZErp"
      }
    },
    {
      "cell_type": "code",
      "source": [
        "def suma(a, b):\n",
        "    assert(type(a) == int)\n",
        "    assert(type(b) == int)\n",
        "    return a+b\n",
        "\n",
        "# Ok, los argumentos son int\n",
        "suma(3, 5)"
      ],
      "metadata": {
        "colab": {
          "base_uri": "https://localhost:8080/"
        },
        "id": "5izQjdfzZEln",
        "outputId": "7f46e3b6-066d-4c57-9a27-7423a7c1f44b"
      },
      "execution_count": null,
      "outputs": [
        {
          "output_type": "execute_result",
          "data": {
            "text/plain": [
              "8"
            ]
          },
          "metadata": {},
          "execution_count": 44
        }
      ]
    },
    {
      "cell_type": "code",
      "source": [],
      "metadata": {
        "id": "RPueyBR1ZDwg"
      },
      "execution_count": null,
      "outputs": []
    },
    {
      "cell_type": "markdown",
      "source": [
        "##for y while"
      ],
      "metadata": {
        "id": "45biLq1te0Ar"
      }
    },
    {
      "cell_type": "markdown",
      "source": [
        "Utilice la sentencia while para ejecutar en bucle un conjunto de instrucciones hasta que se cumpla una condición determinada. Puede utilizar la sentencia while para repetir un conjunto de operaciones hasta que se cumpla la condición especificada."
      ],
      "metadata": {
        "id": "HR8EI1PTfAZH"
      }
    },
    {
      "cell_type": "code",
      "source": [
        "i = 1\n",
        "while i <= 50:\n",
        "    print(i)\n",
        "    i = 3 * i + 1\n",
        "print(\"Programa terminado\")"
      ],
      "metadata": {
        "colab": {
          "base_uri": "https://localhost:8080/"
        },
        "id": "rCHNbQgafAOI",
        "outputId": "2360ad88-36b4-424e-bda8-49e6d1c53463"
      },
      "execution_count": null,
      "outputs": [
        {
          "output_type": "stream",
          "name": "stdout",
          "text": [
            "1\n",
            "4\n",
            "13\n",
            "40\n",
            "Programa terminado\n"
          ]
        }
      ]
    },
    {
      "cell_type": "markdown",
      "source": [
        "Un bucle for establece la variable iteradora en cada valor de una lista, arreglo o cadena proporcionada y repite el código en el cuerpo del bucle for para cada valor de la variable iteradora."
      ],
      "metadata": {
        "id": "KQTJNlCZfQSn"
      }
    },
    {
      "cell_type": "code",
      "source": [
        "for i in [1, 2, 3, 4]:\n",
        "    print(i, end=\", \") "
      ],
      "metadata": {
        "colab": {
          "base_uri": "https://localhost:8080/"
        },
        "id": "85MVq1wge1iD",
        "outputId": "faf3f630-55dd-46c6-e2b1-c09095d54d5f"
      },
      "execution_count": null,
      "outputs": [
        {
          "output_type": "stream",
          "name": "stdout",
          "text": [
            "1, 2, 3, 4, "
          ]
        }
      ]
    },
    {
      "cell_type": "markdown",
      "source": [
        "##return"
      ],
      "metadata": {
        "id": "7Y6fFa-fhpMQ"
      }
    },
    {
      "cell_type": "markdown",
      "source": [
        "La instrucción return indica el final de la función pero también el valor que devuelve la función. La ejecución del programa continúa tras la llamada a la función. El valor devuelto por la función se guarda en la variable \"media\". Se escribe el resultado de la operación."
      ],
      "metadata": {
        "id": "7r4eikRFhq3v"
      }
    },
    {
      "cell_type": "code",
      "source": [
        "def escribe_media():\n",
        "    media = (a + b) / 2\n",
        "    print(f\"La media de {a} y {b} es: {media}\")\n",
        "    return\n",
        "\n",
        "a = 3\n",
        "b = 5\n",
        "escribe_media()\n",
        "print(\"Programa terminado\")"
      ],
      "metadata": {
        "colab": {
          "base_uri": "https://localhost:8080/"
        },
        "id": "LOZYtisEhqYC",
        "outputId": "abb47d28-c664-4efe-f46e-7cbf7a4cab25"
      },
      "execution_count": null,
      "outputs": [
        {
          "output_type": "stream",
          "name": "stdout",
          "text": [
            "La media de 3 y 5 es: 4.0\n",
            "Programa terminado\n"
          ]
        }
      ]
    },
    {
      "cell_type": "markdown",
      "source": [
        "##yield"
      ],
      "metadata": {
        "id": "vz3aJ0jgoVaP"
      }
    },
    {
      "cell_type": "markdown",
      "source": [
        "La palabra clave yield se usa para pausar y reanudar una función generadora ( function* o función generadora heredada (en-US))."
      ],
      "metadata": {
        "id": "nDiDechfoXEc"
      }
    },
    {
      "cell_type": "code",
      "source": [
        "def square(nums):\n",
        "\tfor i in nums:\n",
        "\t\tyield(i*i)\n",
        "\n",
        "someNums = square([1, 2, 3, 4, 5])\n",
        "\n",
        "print someNums"
      ],
      "metadata": {
        "colab": {
          "base_uri": "https://localhost:8080/",
          "height": 130
        },
        "id": "fmDFY9MAoWm6",
        "outputId": "13218d9a-6fa5-4bc7-c9d7-bd40f185ec08"
      },
      "execution_count": null,
      "outputs": [
        {
          "output_type": "error",
          "ename": "SyntaxError",
          "evalue": "ignored",
          "traceback": [
            "\u001b[0;36m  File \u001b[0;32m\"<ipython-input-3-56ea4b5a4d47>\"\u001b[0;36m, line \u001b[0;32m7\u001b[0m\n\u001b[0;31m    print someNums\u001b[0m\n\u001b[0m                 ^\u001b[0m\n\u001b[0;31mSyntaxError\u001b[0m\u001b[0;31m:\u001b[0m Missing parentheses in call to 'print'. Did you mean print(someNums)?\n"
          ]
        }
      ]
    },
    {
      "cell_type": "code",
      "source": [],
      "metadata": {
        "id": "JSDsZ5uVoijv"
      },
      "execution_count": null,
      "outputs": []
    },
    {
      "cell_type": "markdown",
      "source": [
        "##from"
      ],
      "metadata": {
        "id": "A09bTmN6o8_8"
      }
    },
    {
      "cell_type": "markdown",
      "source": [
        "Al usar la forma from ... import ..., le indicamos a Python específicamente cuáles objetos queremos importar de un módulo en particular. Luego, los objetos importados se incorporan a nuestro archivo como cualquier otro objeto definido dentro de él. Por esta razón, no es necesario (ni posible) usar el prefijo mimodulo."
      ],
      "metadata": {
        "id": "nseg8MtCpGQK"
      }
    },
    {
      "cell_type": "code",
      "source": [
        ">>> from math import *\n",
        "\n",
        ">>> sqrt(25)\n",
        "5.0\n",
        "\n",
        ">>> factorial(5)\n",
        "120\n",
        "\n",
        ">>> floor(4.6)\n",
        "4\n",
        "\n",
        ">>> gcd(5, 8)\n",
        "1"
      ],
      "metadata": {
        "colab": {
          "base_uri": "https://localhost:8080/"
        },
        "id": "HZP6APS8o775",
        "outputId": "af8d593f-8cbe-4a44-c6f1-298c2e2444fa"
      },
      "execution_count": null,
      "outputs": [
        {
          "output_type": "execute_result",
          "data": {
            "text/plain": [
              "1"
            ]
          },
          "metadata": {},
          "execution_count": 8
        }
      ]
    },
    {
      "cell_type": "code",
      "source": [],
      "metadata": {
        "id": "kSZZwAsno_43"
      },
      "execution_count": null,
      "outputs": []
    },
    {
      "cell_type": "code",
      "source": [],
      "metadata": {
        "id": "nOAB9UJcqTlz"
      },
      "execution_count": null,
      "outputs": []
    },
    {
      "cell_type": "markdown",
      "source": [
        "##in"
      ],
      "metadata": {
        "id": "2fYGASdbp1WP"
      }
    },
    {
      "cell_type": "markdown",
      "source": [
        "Puedes verificar si un elemento pertenece a una secuencia o no con los operadores in y not in."
      ],
      "metadata": {
        "id": "9b8PyoX_p6xO"
      }
    },
    {
      "cell_type": "code",
      "source": [
        ">>> 5 in [1, 2, 3, 4, 5]\n",
        "True\n",
        "\n",
        ">>> 8 in [1, 2, 3, 4, 5]\n",
        "False\n",
        "\n",
        ">>> 5 in (1, 2, 3, 4, 5)\n",
        "True\n",
        "\n",
        ">>> 8 in (1, 2, 3, 4, 5)\n",
        "False\n",
        "\n",
        ">>> \"a\" in {\"a\": 1, \"b\": 2}\n",
        "True\n",
        "\n",
        ">>> \"c\" in {\"a\": 1, \"b\": 2}\n",
        "False\n",
        "\n",
        ">>> \"h\" in \"Hola\"\n",
        "False\n",
        "\n",
        ">>> \"H\" in \"Hola\"\n",
        "True\n",
        "\n",
        ">>> 5 not in [1, 2, 3, 4, 5]\n",
        "False\n",
        "\n",
        ">>> 8 not in (1, 2, 3, 4, 5)\n",
        "True\n",
        "\n",
        ">>> \"a\" not in {\"a\": 1, \"b\": 2}\n",
        "False\n",
        "\n",
        ">>> \"c\" not in {\"a\": 1, \"b\": 2}\n",
        "True\n",
        "\n",
        ">>> \"h\" not in \"Hola\"\n",
        "True\n",
        "\n",
        ">>> \"H\" not in \"Hola\"\n",
        "False"
      ],
      "metadata": {
        "colab": {
          "base_uri": "https://localhost:8080/"
        },
        "id": "7jHWBbkvp5bO",
        "outputId": "364e8e11-a84e-4e02-be00-97b68e05232f"
      },
      "execution_count": null,
      "outputs": [
        {
          "output_type": "execute_result",
          "data": {
            "text/plain": [
              "False"
            ]
          },
          "metadata": {},
          "execution_count": 10
        }
      ]
    },
    {
      "cell_type": "markdown",
      "source": [
        "##not"
      ],
      "metadata": {
        "id": "lKvwmYkIqJmU"
      }
    },
    {
      "cell_type": "markdown",
      "source": [
        "Si el valor es de tipo booleano, «NOT» actúa como operador de negación. Si el valor es False, «not valor» será «True», y la(s) declaración(es) del bloque «if» se ejecutará(n). Si el valor es True, «not valor» será False, y la(s) sentencia(s) del bloque if no se ejecutará(n)"
      ],
      "metadata": {
        "id": "pKSvUW4gqO7h"
      }
    },
    {
      "cell_type": "code",
      "source": [
        "a = False\n",
        " \n",
        "if not a:\n",
        "    print('a es false.')"
      ],
      "metadata": {
        "colab": {
          "base_uri": "https://localhost:8080/"
        },
        "id": "63dq5wqNp930",
        "outputId": "2d43d8dd-fb93-44ec-ca31-4f8daa20edcf"
      },
      "execution_count": null,
      "outputs": [
        {
          "output_type": "stream",
          "name": "stdout",
          "text": [
            "a es false.\n"
          ]
        }
      ]
    },
    {
      "cell_type": "code",
      "source": [],
      "metadata": {
        "id": "DHX0jKSMqRfL"
      },
      "execution_count": null,
      "outputs": []
    },
    {
      "cell_type": "markdown",
      "source": [
        "##none"
      ],
      "metadata": {
        "id": "GnaLjWFnqhCI"
      }
    },
    {
      "cell_type": "markdown",
      "source": [
        "hay un valor llamado None , que representa la ausencia de un valor."
      ],
      "metadata": {
        "id": "XoSyb9BUqmZs"
      }
    },
    {
      "cell_type": "code",
      "source": [
        "a = None\n",
        "if a == None:\n",
        "    print(\"a es None.\")\n",
        "else:\n",
        "    print(\"a no es None.\")"
      ],
      "metadata": {
        "colab": {
          "base_uri": "https://localhost:8080/"
        },
        "id": "b3BTWMrNqhxt",
        "outputId": "3d6d41ee-e530-4806-849d-65ba699a3557"
      },
      "execution_count": null,
      "outputs": [
        {
          "output_type": "stream",
          "name": "stdout",
          "text": [
            "a es None.\n"
          ]
        }
      ]
    },
    {
      "cell_type": "markdown",
      "source": [
        "##is"
      ],
      "metadata": {
        "id": "DnfpSMNbrThF"
      }
    },
    {
      "cell_type": "markdown",
      "source": [
        "El operador ìs se utiliza para comparar la identidad de dos objetos. Esto es, si los objetos a los que las variables hacen referencia son el mismo o no. Lo indica que esta comparación es más estricta que la realizada por el operador == ."
      ],
      "metadata": {
        "id": "P8rZA-S-ras9"
      }
    },
    {
      "cell_type": "code",
      "source": [
        ">>> [1,2,3] is [1,2,3]\n",
        ">>> False"
      ],
      "metadata": {
        "colab": {
          "base_uri": "https://localhost:8080/"
        },
        "id": "Nwcizec4qoEe",
        "outputId": "88843559-03c0-4392-b46c-53341f8a01f1"
      },
      "execution_count": null,
      "outputs": [
        {
          "output_type": "execute_result",
          "data": {
            "text/plain": [
              "False"
            ]
          },
          "metadata": {},
          "execution_count": 14
        }
      ]
    },
    {
      "cell_type": "code",
      "source": [],
      "metadata": {
        "id": "q1R0gs4crcfi"
      },
      "execution_count": null,
      "outputs": []
    }
  ]
}