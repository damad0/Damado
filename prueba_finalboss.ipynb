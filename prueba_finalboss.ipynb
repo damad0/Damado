{
  "nbformat": 4,
  "nbformat_minor": 0,
  "metadata": {
    "colab": {
      "provenance": []
    },
    "kernelspec": {
      "name": "python3",
      "display_name": "Python 3"
    },
    "language_info": {
      "name": "python"
    }
  },
  "cells": [
    {
      "cell_type": "code",
      "execution_count": null,
      "metadata": {
        "id": "KhwTSTleyaSL"
      },
      "outputs": [],
      "source": [
        "array = []\n",
        "\n",
        "for i in range(0, 3):\n",
        "    nam = input(\"Ingrese el nombre del curso \" + str(i+1) + \": \")\n",
        "    grad = input(\"Ingrese el numero de estudiante del curso \" + str(i+1) + \": \")\n",
        "    array.append(\n",
        "        {\n",
        "            'nam': nam,\n",
        "            'grad': grad\n",
        "        }\n",
        "    )\n",
        "\n",
        "array = []\n",
        "\n",
        "for i in range(0, 4):\n",
        "    name = input(\"Ingrese el nombre del alumno numero \" + str(i+1) + \": \")\n",
        "    grade = input(\"Ingrese la nota del alumno \" + str(i+1) + \": \")\n",
        "    array.append(\n",
        "        {\n",
        "            'name': name,\n",
        "            'grade': grade\n",
        "        }\n",
        "    )\n",
        "\n",
        "while(True):\n",
        "    control = int(input(\"Ingrese el numero de control: \"))\n",
        "    print(\"El nombre es: \" + array[control - 1]['name'])\n",
        "    print(\"La nota es: \" + array[control - 1]['grade'])\n",
        "\n"
      ]
    },
    {
      "cell_type": "code",
      "source": [],
      "metadata": {
        "id": "ZEUBB8bZBEoC"
      },
      "execution_count": null,
      "outputs": []
    }
  ]
}