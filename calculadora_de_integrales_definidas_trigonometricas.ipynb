{
  "nbformat": 4,
  "nbformat_minor": 0,
  "metadata": {
    "colab": {
      "provenance": []
    },
    "kernelspec": {
      "name": "python3",
      "display_name": "Python 3"
    },
    "language_info": {
      "name": "python"
    }
  },
  "cells": [
    {
      "cell_type": "code",
      "execution_count": null,
      "metadata": {
        "colab": {
          "base_uri": "https://localhost:8080/"
        },
        "id": "-pndaa8g4WJ0",
        "outputId": "275f7bae-e179-42f7-db92-e82a1c32342f"
      },
      "outputs": [
        {
          "output_type": "stream",
          "name": "stdout",
          "text": [
            "Integrales definidas de funciones trigonometricas\n",
            "ingrese eñl limite inferior x0=1\n",
            "ingrese eñl limite superior x1=3\n",
            "la integral resultacos(1) - cos(3)\n"
          ]
        }
      ],
      "source": [
        "from sympy.algebras.quaternion import integrate\n",
        "import sympy as sp\n",
        "print(\"Integrales definidas de funciones trigonometricas\")\n",
        "x=sp.symbols(\"x\")\n",
        "f=sp.sin(x)+sp.cos(x)*sp.sin(x)\n",
        "x0=input(\"ingrese eñl limite inferior x0=\")\n",
        "x1=input(\"ingrese eñl limite superior x1=\")\n",
        "resultado=integrate(f,(x,x0,x1))\n",
        "print(f\"la integral resulta{resultado}\")"
      ]
    },
    {
      "cell_type": "code",
      "source": [
        "import sympy as sp \n",
        "x = sp.Symbol('x') \n",
        "y=3*x \n",
        "sp.integrate(y,(x,5,7))"
      ],
      "metadata": {
        "colab": {
          "base_uri": "https://localhost:8080/",
          "height": 37
        },
        "id": "oKMVpoh48GL3",
        "outputId": "5ada038e-a60b-4440-8455-46b2b6ea956e"
      },
      "execution_count": null,
      "outputs": [
        {
          "output_type": "execute_result",
          "data": {
            "text/plain": [
              "36"
            ],
            "text/latex": "$\\displaystyle 36$"
          },
          "metadata": {},
          "execution_count": 5
        }
      ]
    },
    {
      "cell_type": "code",
      "source": [
        "from sympy.algebras.quaternion import integrate\n",
        "import sympy as sp\n",
        "print(\"Integrales definidas de funciones trigonometricas\")\n",
        "x=sp.symbols(\"x\")\n",
        "\n",
        "f=input(\"ingrese la funcion:\")\n",
        "x0=input(\"ingrese el limite inferior x0=\")\n",
        "x1=input(\"ingrese el limite superior x1=\")\n",
        "resultado=integrate(f,(x,x0,x1))\n",
        "print(f\"la integral resultante es  {resultado}\")"
      ],
      "metadata": {
        "colab": {
          "base_uri": "https://localhost:8080/"
        },
        "id": "MEvGbjESDwjb",
        "outputId": "10765b81-67dd-4cae-f6e4-c2d78ddec732"
      },
      "execution_count": null,
      "outputs": [
        {
          "output_type": "stream",
          "name": "stdout",
          "text": [
            "Integrales definidas de funciones trigonometricas\n",
            "ingrese la funcion:sin(x)\n",
            "ingrese el limite inferior x0=1\n",
            "ingrese el limite superior x1=pi\n",
            "la integral resultante es  cos(1) + 1\n"
          ]
        }
      ]
    },
    {
      "cell_type": "code",
      "source": [],
      "metadata": {
        "id": "09Wnbk2tU6e8"
      },
      "execution_count": null,
      "outputs": []
    }
  ]
}