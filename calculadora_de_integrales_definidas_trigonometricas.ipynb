{
  "nbformat": 4,
  "nbformat_minor": 0,
  "metadata": {
    "colab": {
      "provenance": []
    },
    "kernelspec": {
      "name": "python3",
      "display_name": "Python 3"
    },
    "language_info": {
      "name": "python"
    }
  },
  "cells": [
    {
      "cell_type": "code",
      "source": [
        "from sympy.algebras.quaternion import integrate\n",
        "import sympy as sp\n",
        "\n",
        "print(\"Integrales definidas de funciones trigonometricas\")\n",
        "x=sp.symbols(\"x\")\n",
        "\n",
        "f=input(\"ingrese la funcion:\")\n",
        "x0=input(\"ingrese el limite inferior x0=\")\n",
        "x1=input(\"ingrese el limite superior x1=\")\n",
        "resultado=integrate(f,(x,x0,x1))\n",
        "print(f\"la integral resultante es  {resultado}\")"
      ],
      "metadata": {
        "id": "09Wnbk2tU6e8"
      },
      "execution_count": null,
      "outputs": []
    }
  ]
}