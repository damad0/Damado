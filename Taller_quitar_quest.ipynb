{
  "nbformat": 4,
  "nbformat_minor": 0,
  "metadata": {
    "colab": {
      "provenance": []
    },
    "kernelspec": {
      "name": "python3",
      "display_name": "Python 3"
    },
    "language_info": {
      "name": "python"
    }
  },
  "cells": [
    {
      "cell_type": "code",
      "execution_count": null,
      "metadata": {
        "colab": {
          "base_uri": "https://localhost:8080/"
        },
        "id": "gsU9SZNuyFD_",
        "outputId": "81a91983-6524-431c-9f31-ae4b2575f264"
      },
      "outputs": [
        {
          "output_type": "stream",
          "name": "stdout",
          "text": [
            "Elije: piedra, papel, tijeras, lagarto, papa, heavy y spock: tijeras\n",
            "\n",
            "La pc ha seleccionado heavy\n",
            "\felicitaciones!, tijeras le gana a heavy\n"
          ]
        }
      ],
      "source": [
        "import random\n",
        "op=[\"piedra\",\"papel\",\"tijeras\",\"lagarto\",\"papa\",\"heavy\",\"spock\"]\n",
        "sep= \"-\" * 15 \n",
        "while True:\n",
        "  user = input(\"Elije: piedra, papel, tijeras, lagarto, papa, heavy y spock: \").lower()\n",
        "  if user not in op:\n",
        "    print(\"\\nMovimiento no valido\")\n",
        "    continue\n",
        "  pc = random.choice(op)\n",
        "  print(f\"\\nLa pc ha seleccionado {pc}\")\n",
        "  if user == pc:\n",
        "    print(f\"\\nEmpate!, ambos eligieron {user}\")\n",
        "\n",
        "  elif user == \"piedra\" and pc == \"tijeras\":\n",
        "    print(f\"\\felicitaciones!, {user} le gana a {pc}\")\n",
        "  elif user == \"piedra\" and pc == \"heavy\":\n",
        "    print(f\"\\felicitaciones!, {user} le gana a {pc}\")\n",
        "  elif user == \"piedra\" and pc == \"lagarto\":\n",
        "    print(f\"\\felicitaciones!, {user} le gana a {pc}\")\n",
        "\n",
        "  elif user == \"tijeras\" and pc == \"papel\":\n",
        "    print(f\"\\felicitaciones!, {user} le gana a {pc}\")\n",
        "  elif user == \"tijeras\" and pc == \"heavy\":\n",
        "    print(f\"\\felicitaciones!, {user} le gana a {pc}\")\n",
        "  elif user == \"tijeras\" and pc == \"lagarto\":\n",
        "    print(f\"\\felicitaciones!, {user} le gana a {pc}\")\n",
        "\n",
        "  elif user == \"papel\" and pc == \"piedra\":\n",
        "    print(f\"\\felicitaciones!, {user} le gana a {pc}\")\n",
        "  elif user == \"papel\" and pc == \"spock\":\n",
        "    print(f\"\\felicitaciones!, {user} le gana a {pc}\")\n",
        "  elif user == \"papel\" and pc == \"heavy\":\n",
        "    print(f\"\\felicitaciones!, {user} le gana a {pc}\")\n",
        "  \n",
        "  elif user == \"spock\" and pc == \"tijeras\":\n",
        "    print(f\"\\felicitaciones!, {user} le gana a {pc}\")\n",
        "  elif user == \"spock\" and pc == \"papa\":\n",
        "    print(f\"\\felicitaciones!, {user} le gana a {pc}\")\n",
        "  elif user == \"spock\" and pc == \"piedra\":\n",
        "    print(f\"\\felicitaciones!, {user} le gana a {pc}\")\n",
        "\n",
        "  elif user == \"heavy\" and pc == \"papa\":\n",
        "    print(f\"\\felicitaciones!, {user} le gana a {pc}\")\n",
        "  elif user == \"heavy\" and pc == \"largarto\":\n",
        "    print(f\"\\felicitaciones!, {user} le gana a {pc}\")\n",
        "  elif user == \"heavy\" and pc == \"spock\":\n",
        "    print(f\"\\felicitaciones!, {user} le gana a {pc}\")\n",
        "\n",
        "\n",
        "  elif user == \"papa\" and pc == \"piedra\":\n",
        "    print(f\"\\felicitaciones!, {user} le gana a {pc}\")\n",
        "  elif user == \"papa\" and pc == \"papel\":\n",
        "    print(f\"\\felicitaciones!, {user} le gana a {pc}\")\n",
        "  elif user == \"papa\" and pc == \"tijeras\":\n",
        "    print(f\"\\felicitaciones!, {user} le gana a {pc}\")\n",
        "\n",
        "  elif user == \"lagarto\" and pc == \"spock\":\n",
        "    print(f\"\\felicitaciones!, {user} le gana a {pc}\")\n",
        "  elif user == \"lagarto\" and pc == \"papel\":\n",
        "    print(f\"\\felicitaciones!, {user} le gana a {pc}\")\n",
        "  elif user == \"lagarto\" and pc == \"papa\":\n",
        "    print(f\"\\felicitaciones!, {user} le gana a {pc}\")\n",
        "  \n",
        "  else:\n",
        "    print(f\"\\perdiste!, {user} pierde contra {pc}\")\n",
        "    print(f\"{sep} fin del juego {sep}\")\n",
        "\n"
      ]
    },
    {
      "cell_type": "code",
      "source": [],
      "metadata": {
        "id": "M0TIMvkR2b-A"
      },
      "execution_count": null,
      "outputs": []
    }
  ]
}