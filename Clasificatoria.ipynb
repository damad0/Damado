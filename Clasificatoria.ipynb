{
  "nbformat": 4,
  "nbformat_minor": 0,
  "metadata": {
    "colab": {
      "provenance": []
    },
    "kernelspec": {
      "name": "python3",
      "display_name": "Python 3"
    },
    "language_info": {
      "name": "python"
    }
  },
  "cells": [
    {
      "cell_type": "code",
      "execution_count": null,
      "metadata": {
        "colab": {
          "base_uri": "https://localhost:8080/"
        },
        "id": "3vXNv3_ww5jg",
        "outputId": "06b532bc-6c18-4436-9e3b-0cbcc34f1c08"
      },
      "outputs": [
        {
          "output_type": "stream",
          "name": "stdout",
          "text": [
            "{'Combo 1': 20000, 'Combo 2': 25000, 'Combo 3': 18000, 'Combo 4': 24500}\n",
            "{'Jugos naturale': 7000, 'Cerveza': 3500, 'Agua': 4000, 'Gaseosa': 2500}\n",
            "{'papas': 3000}\n",
            "primero seleccione el producto y luego la cantidad\n"
          ]
        }
      ],
      "source": [
        "Tienda={\"Combos\":{\"Combo 1\":20000,\"Combo 2\":25000,\"Combo 3\":18000,\"Combo 4\":24500},\"Bebidas\":{\"Jugos naturale\":7000,\"Cerveza\":3500,\"Agua\":4000,\"Gaseosa\":2500},\"Extra\":{\"papas\":3000}}\n",
        "\n",
        "for i in Tienda:\n",
        "    print(Tienda[i])\n",
        "print(\"primero seleccione el producto y luego la cantidad\")\n",
        "pedidos=input(\"¿que deseas pedir?\")\n",
        "cuantos=input(\"¿cuantos?\")\n"
      ]
    },
    {
      "cell_type": "code",
      "source": [
        "Tienda[\"Combos\"][\"Combo 1\"]"
      ],
      "metadata": {
        "colab": {
          "base_uri": "https://localhost:8080/"
        },
        "id": "0mWjmD_67sBM",
        "outputId": "2521da85-df81-4fbf-8953-ba371728a9bb"
      },
      "execution_count": 28,
      "outputs": [
        {
          "output_type": "execute_result",
          "data": {
            "text/plain": [
              "20000"
            ]
          },
          "metadata": {},
          "execution_count": 28
        }
      ]
    }
  ]
}