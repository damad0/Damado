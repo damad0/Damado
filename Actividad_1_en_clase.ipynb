{
  "nbformat": 4,
  "nbformat_minor": 0,
  "metadata": {
    "colab": {
      "name": "Actividad 1 en clase.ipynb",
      "provenance": []
    },
    "kernelspec": {
      "name": "python3",
      "display_name": "Python 3"
    },
    "language_info": {
      "name": "python"
    }
  },
  "cells": [
    {
      "cell_type": "markdown",
      "source": [
        "##1.indicar si un N es un número primo (siendo N un número que se lee)"
      ],
      "metadata": {
        "id": "yQHzVthXoaAo"
      }
    },
    {
      "cell_type": "code",
      "source": [
        "n= int(input(\"Ingresa un numero:\"))\n",
        "x=1 \n",
        "c=0\n",
        "while x<= n:\n",
        "  if n%x==0:\n",
        "   c=c+1\n",
        "  x=x+1\n",
        "if c==2:\n",
        "  print(\"El numero\",n,\"es primo\")\n",
        "else:\n",
        "  print(\"el numero\",n,\"no es primo\")"
      ],
      "metadata": {
        "colab": {
          "base_uri": "https://localhost:8080/"
        },
        "id": "zOVgV2hhowZI",
        "outputId": "80f5bfa1-0dd6-402a-b37d-f25d6a8529df"
      },
      "execution_count": null,
      "outputs": [
        {
          "output_type": "stream",
          "name": "stdout",
          "text": [
            "Ingresa un numero:5\n",
            "El numero 5 es primo\n"
          ]
        }
      ]
    },
    {
      "cell_type": "markdown",
      "source": [
        ""
      ],
      "metadata": {
        "id": "0Wvius3HoZ6Y"
      }
    },
    {
      "cell_type": "markdown",
      "source": [
        ""
      ],
      "metadata": {
        "id": "1VS13aUOo3cg"
      }
    },
    {
      "cell_type": "markdown",
      "source": [
        "##3.Calcular la factorial de un número N(siendo N un número que se lee)"
      ],
      "metadata": {
        "id": "wHke-2p4pv_W"
      }
    },
    {
      "cell_type": "code",
      "source": [
        "n=int(input(\"Ingresa un número\"))\n",
        "factorial=1\n",
        "if n<0:\n",
        "  print(\"No hay factorial para numeros negativos\")\n",
        "else:\n",
        "  if n!=0:\n",
        "    for i in range(1,n+1):\n",
        "      factorial=factorial*i\n",
        "    print(\"factorial:\",factorial)\n"
      ],
      "metadata": {
        "id": "kdOMitA1p-Pu"
      },
      "execution_count": null,
      "outputs": []
    },
    {
      "cell_type": "code",
      "source": [
        ""
      ],
      "metadata": {
        "id": "r8ok4Q6ep9tl"
      },
      "execution_count": null,
      "outputs": []
    },
    {
      "cell_type": "markdown",
      "source": [
        ""
      ],
      "metadata": {
        "id": "KkCkNY9ztf09"
      }
    },
    {
      "cell_type": "markdown",
      "source": [
        "##4.Calcular la factorial de 10 número diferentes cuyos valores se lean"
      ],
      "metadata": {
        "id": "zgnPlVtstg5F"
      }
    },
    {
      "cell_type": "code",
      "source": [
        "for i in range(10):\n",
        "  n=int(input(\"Ingresa un número\"))\n",
        "  factorial=1\n",
        "  if n<0:\n",
        "    print(\"No hay factorial para numeros negativos\")\n",
        "  else:\n",
        "    if n!=0:\n",
        "      for i in range(1,n+1):\n",
        "        factorial=factorial*i\n",
        "      print(\"factorial:\",factorial)"
      ],
      "metadata": {
        "colab": {
          "base_uri": "https://localhost:8080/"
        },
        "id": "TfMM8pbztuOy",
        "outputId": "dd8e392a-e5df-4268-b65a-4055666f85d3"
      },
      "execution_count": null,
      "outputs": [
        {
          "metadata": {
            "tags": null
          },
          "name": "stdout",
          "output_type": "stream",
          "text": [
            "factorial: 120\n",
            "No hay factorial para numeros negativos\n"
          ]
        }
      ]
    },
    {
      "cell_type": "code",
      "source": [
        "5\n"
      ],
      "metadata": {
        "id": "RRIT-0lnuUvr"
      },
      "execution_count": null,
      "outputs": []
    },
    {
      "cell_type": "markdown",
      "source": [
        "##2.Imprimir los 30 primeros números de Fibonacci."
      ],
      "metadata": {
        "id": "z9JFspEd00wG"
      }
    },
    {
      "cell_type": "code",
      "source": [
        "print(\"se imprimiran los 30 primeros numero de fibonacci\")\n",
        "\n",
        "b=1\n",
        "\n",
        "for n in range(0,30):\n",
        "  print(a)\n",
        "total = a + b\n",
        "b=a\n",
        "a= total"
      ],
      "metadata": {
        "id": "0wxPzUif06kN"
      },
      "execution_count": null,
      "outputs": []
    },
    {
      "cell_type": "code",
      "source": [
        ""
      ],
      "metadata": {
        "id": "3CxcdLc609-t"
      },
      "execution_count": null,
      "outputs": []
    },
    {
      "cell_type": "code",
      "source": [
        ""
      ],
      "metadata": {
        "id": "_PVPoTtj1R69"
      },
      "execution_count": null,
      "outputs": []
    },
    {
      "cell_type": "markdown",
      "source": [
        "##5.Leer 20 números y encontrar el mayor y el menor valor leídos"
      ],
      "metadata": {
        "id": "9S14Ev1v1etk"
      }
    },
    {
      "cell_type": "code",
      "source": [
        "menor = 0\n",
        "mayor = 0\n",
        "maximo= 20\n",
        "\n",
        "for i in range(maximo):\n",
        "    num = int(input(\"Dame un numero:\"))\n",
        "\n",
        "if num > mayor:\n",
        "    mayor = num\n",
        "    print(\"el mayor es \",mayor)\n",
        "elif num < menor:\n",
        "    menor = num\n",
        "    print(\"el menor es \",menor)"
      ],
      "metadata": {
        "id": "FwR5UjUZ1g88"
      },
      "execution_count": null,
      "outputs": []
    },
    {
      "cell_type": "markdown",
      "source": [
        "##6.Mostrar la tabla de multiplicar del número que seleccione el usuario. Revisar que esté en el rango de 1 a 10."
      ],
      "metadata": {
        "id": "Z6KhlulX1sdL"
      }
    },
    {
      "cell_type": "code",
      "source": [
        "##REALIZAR LA TABLA DE N DEL 1 AL 10\n",
        "n=int(input(\"que tabla desea generar y hasta que tabla ?\"))\n",
        "x=int(input(\"hasta que tabla ?\"))\n",
        "\n",
        "for n in range(n,x):\n",
        "  print(\"tabla del \",n)\n",
        "  for i in range(1,11):\n",
        "    print(n,\"x\",i,\"=\",n*i)"
      ],
      "metadata": {
        "id": "ebWNID5M1uXL"
      },
      "execution_count": null,
      "outputs": []
    },
    {
      "cell_type": "markdown",
      "source": [
        "##7.Calcular la suma siguiente: 100+90+80+70+…+0."
      ],
      "metadata": {
        "id": "3AvlEWdL3ShC"
      }
    },
    {
      "cell_type": "code",
      "source": [
        "a=0\n",
        "z=100\n",
        "for i in range(100,-10,0):\n",
        "  print(num)\n"
      ],
      "metadata": {
        "id": "eMNJrNT_3UAw"
      },
      "execution_count": null,
      "outputs": []
    },
    {
      "cell_type": "code",
      "source": [
        ""
      ],
      "metadata": {
        "id": "ZlqZkss63VeP"
      },
      "execution_count": null,
      "outputs": []
    },
    {
      "cell_type": "markdown",
      "source": [
        "##10.Multiplicar los números introducidos por el usuario que estén en el rango del 1 al 10. Terminar cuando el usuario introduzca un número fuera del rango y mostrar el resultado"
      ],
      "metadata": {
        "id": "A6NIG-co3YGq"
      }
    },
    {
      "cell_type": "code",
      "source": [
        "print(\"ingresa numeros para ser multiplicados \" )\n",
        "\n",
        "maximo=10\n",
        "for i in range(maximo):\n",
        "    num = int(input('Dame un numero:'))\n",
        "    print(num*num)"
      ],
      "metadata": {
        "id": "8oAo-ntl3ZQK"
      },
      "execution_count": null,
      "outputs": []
    },
    {
      "cell_type": "code",
      "source": [
        ""
      ],
      "metadata": {
        "id": "992xDAES3ak6"
      },
      "execution_count": null,
      "outputs": []
    }
  ]
}