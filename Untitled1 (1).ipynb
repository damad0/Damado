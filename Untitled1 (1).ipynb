{
  "nbformat": 4,
  "nbformat_minor": 0,
  "metadata": {
    "colab": {
      "name": "Untitled1.ipynb",
      "provenance": []
    },
    "kernelspec": {
      "name": "python3",
      "display_name": "Python 3"
    },
    "language_info": {
      "name": "python"
    }
  },
  "cells": [
    {
      "cell_type": "markdown",
      "source": [
        "##1.Escriba un programa que solicite dos números enteros y calcule su división. El programa debe definir si la división es exacta o no. Si no es exacta, debe imprimir cuál es su residuo. ¿Qué debería imprimir el programa si la división es entre cero?\n"
      ],
      "metadata": {
        "id": "ns-5bVn4mTwl"
      }
    },
    {
      "cell_type": "code",
      "execution_count": 35,
      "metadata": {
        "id": "yfKxRmIRjd7d",
        "colab": {
          "base_uri": "https://localhost:8080/"
        },
        "outputId": "08e36141-371f-4525-84bb-f0a22f3b3a30"
      },
      "outputs": [
        {
          "output_type": "stream",
          "name": "stdout",
          "text": [
            "Ingrese un numero dividendo 5\n",
            "Ingrese el numero divisor numero 5\n",
            "El resultado de la division es 1.0\n",
            "la division no es exacta porque el modulo da 0\n"
          ]
        }
      ],
      "source": [
        "x=int(input(\"Ingrese un numero dividendo \"))\n",
        "c=int(input(\"Ingrese el numero divisor numero \"))\n",
        "if c==0:\n",
        "  print(\"el resultado es indeterminado porque el divisor es 0\")\n",
        "else:\n",
        "  v=(x/c)\n",
        "  print(\"El resultado de la division es\",v)\n",
        "  b=(x % c)\n",
        "  if b==0:\n",
        "    print(\"la division no es exacta porque el modulo da\",b)\n",
        "  else:\n",
        "    print(\"la division no es exacta porque el modulo da\",b)\n",
        "\n",
        "\n",
        "\n",
        "\n",
        "\n",
        "\n",
        "\n",
        "\n"
      ]
    },
    {
      "cell_type": "markdown",
      "source": [
        "##2.Escriba un programa que pida dos números e indique si uno es múltiplo del otro."
      ],
      "metadata": {
        "id": "1ZUnEIzJvMio"
      }
    },
    {
      "cell_type": "code",
      "source": [
        "print(\"ingresa un numero\")\n",
        "a=int(input())\n",
        "print(\"ingresa otro numero\")\n",
        "b=int(input())\n",
        "c=a % b\n",
        "d=b % a\n",
        "if a>b and c==0:\n",
        "  print(a,\"es multiplo de\",b)\n",
        "elif b>a and d==0:\n",
        "  print(b,\"es multiplo de\",a)\n",
        "else:\n",
        "  print(\"no son multiplos\" )\n",
        "  "
      ],
      "metadata": {
        "colab": {
          "base_uri": "https://localhost:8080/"
        },
        "id": "BKz0Kk4jbEVs",
        "outputId": "0698ccd6-10ac-4715-92ef-f407f7e2646b"
      },
      "execution_count": 102,
      "outputs": [
        {
          "output_type": "stream",
          "name": "stdout",
          "text": [
            "ingresa un numero\n",
            "5\n",
            "ingresa otro numero\n",
            "2\n",
            "no son multiplos\n"
          ]
        }
      ]
    },
    {
      "cell_type": "markdown",
      "source": [
        "##3.Escriba un programa que ordene, de menor a mayor, las edades de tres hermanos. ¿Qué pasaría si son gemelos? ¿Qué pasaría si son trillizos? "
      ],
      "metadata": {
        "id": "Y_QG5NZGkAJK"
      }
    },
    {
      "cell_type": "code",
      "source": [
        ""
      ],
      "metadata": {
        "id": "X5I6Ybg5kO9s"
      },
      "execution_count": null,
      "outputs": []
    },
    {
      "cell_type": "markdown",
      "source": [
        ""
      ],
      "metadata": {
        "id": "apBmzzQB_9cT"
      }
    },
    {
      "cell_type": "markdown",
      "source": [
        "##4.DIAN le ha contratado para identificar si una persona debe pagar impuesto de renta o no. ¿Qué datos debería suministrar? Escriba un programa con su solución. "
      ],
      "metadata": {
        "id": "WdzQrkEUkQ9I"
      }
    },
    {
      "cell_type": "code",
      "source": [
        ""
      ],
      "metadata": {
        "id": "lSgFnQnukT-L"
      },
      "execution_count": null,
      "outputs": []
    },
    {
      "cell_type": "markdown",
      "source": [
        "##5.Escriba un programa que, de acuerdo al código del estudiante, defina a qué universidad pertenece.  \n",
        "\n",
        "Si el código empieza con U y tiene 8 dígitos, pertenece a la UNAB \n",
        "\n",
        "Si los cuatro primeros dígitos es mayor a 1950 , pertenece a la UIS. \n",
        "\n",
        "Si el código empieza con A y tres ceros seguidos, pertenece a los ANDES. \n",
        "\n",
        "1000 exp. adicional: Si el código de la UNAB termina en 26, debe imprimir que es ingeniero electrónico. Si termina en 32, ingeniero de sistemas. Si termina en 50, pertenece a ingeniería de administración de empresas.  \n",
        "\n",
        "1000 xp. Adicional: Defina códigos con los dos últimos caracteres para la UIS y ANDES, de las mismas carreras. "
      ],
      "metadata": {
        "id": "pLQojwcEkVDJ"
      }
    },
    {
      "cell_type": "code",
      "source": [
        ""
      ],
      "metadata": {
        "id": "sALt84HKkYwQ"
      },
      "execution_count": null,
      "outputs": []
    },
    {
      "cell_type": "markdown",
      "source": [
        "##6.Escriba un programa que le pregunte sus cuatro notas y calcule su promedio actual. Si su promedio es mayor a 4.5, se le diga que está eximido del último examen. Si su nota se encuentra entre 3.5 y 4.5 (intervalo abierto) se le indique que debe presentar el examen. Si la nota se encuentra entre 3 y 3.5 (intervalo abierto), se le indique que adicional al examen, debe presentar un trabajo. Si la nota está entre intervalo abierto entre 2 y 3, decir que debe presentar habilitación. De lo contrario, se le debe indicar al estudiante que perdió la materia irremediablemente. "
      ],
      "metadata": {
        "id": "_E_X1bxZkd1i"
      }
    },
    {
      "cell_type": "code",
      "source": [
        "uno=float(input(\"ingresa su primera nota \"))\n",
        "dos=float(input(\"ingresa su primera nota \"))\n",
        "tres=float(input(\"ingresa su primera nota \"))\n",
        "cuatro=float(input(\"ingresa su primera nota \"))\n",
        "pm=((uno+dos+tres+cuatro)/4)\n",
        "print(\"tu promedio es\",pm)\n",
        "if pm>=4.5:\n",
        "  print(\"Esta eximido del ultimo examen\")\n",
        "elif pm>=3.5 and pm<=4.4:\n",
        "    print(\"Debe presentar el examen\")\n",
        "elif pm>=3.1 and pm<=3.4:\n",
        "    print(\"Debe presentar el examen y un trabajo \")\n",
        "elif pm>=2 and pm<=3:\n",
        "    print(\"debe presentar una habilitacion \")\n",
        "elif pm<=1.9:\n",
        "    print(\"perdio l materia \")"
      ],
      "metadata": {
        "id": "56RJLLTekgdS",
        "colab": {
          "base_uri": "https://localhost:8080/"
        },
        "outputId": "8ee0ca47-0fff-4d8a-dc44-19b4ccbaddfa"
      },
      "execution_count": 13,
      "outputs": [
        {
          "output_type": "stream",
          "name": "stdout",
          "text": [
            "ingresa su primera nota 4.4\n",
            "ingresa su primera nota 4.4\n",
            "ingresa su primera nota 4.4\n",
            "ingresa su primera nota 4.4\n",
            "tu promedio es 4.4\n",
            "Debe presentar el examen\n"
          ]
        }
      ]
    },
    {
      "cell_type": "markdown",
      "source": [
        "##7.Escriba un programa que pregunte tu fecha de nacimiento, e indique cuántos días faltan para tu cumpleaños y cuántos años tienes."
      ],
      "metadata": {
        "id": "1uyVj_3akhUq"
      }
    },
    {
      "cell_type": "code",
      "source": [
        "m=int(input(\"Ingrese tu mes de nacimiento \"))\n",
        "d=int(input(\"Ingrese tu dia de nacimiento \"))\n",
        "a=int(input(\"Ingrese tu año de nacimiento \"))\n"
      ],
      "metadata": {
        "colab": {
          "base_uri": "https://localhost:8080/"
        },
        "id": "VeSYe-t6__T6",
        "outputId": "0992739e-0a76-4f5b-d3ff-576b05c7ac13"
      },
      "execution_count": 104,
      "outputs": [
        {
          "name": "stdout",
          "output_type": "stream",
          "text": [
            "Ingrese tu mes de nacimiento 10\n",
            "Ingrese tu dia de nacimiento 1\n",
            "Ingrese tu año de nacimiento 2003\n"
          ]
        }
      ]
    },
    {
      "cell_type": "code",
      "source": [
        ""
      ],
      "metadata": {
        "id": "32W0YJWkak5O"
      },
      "execution_count": null,
      "outputs": []
    },
    {
      "cell_type": "markdown",
      "source": [
        "##8.Escriba un programa que defina si un número es bisiesto. (Un año es bisiesto cuando son múltiplos de 4, pero no son múltiplos de 100."
      ],
      "metadata": {
        "id": "lFKVxzFbkkZG"
      }
    },
    {
      "cell_type": "code",
      "source": [
        "a=int(input(\"Ingresa un año \"))\n",
        "b=(a % 4)\n",
        "c=(a % 100)\n",
        "if b==0 and c!=0:\n",
        "  print(\"el año que ingresate es bisiesto\")\n",
        "else:\n",
        "  print(\"el año que ingresaste no es bisiesto\")\n"
      ],
      "metadata": {
        "id": "hTzYBpI4kn1r",
        "colab": {
          "base_uri": "https://localhost:8080/"
        },
        "outputId": "0f498d99-1554-4abe-80e7-0ba340d6be71"
      },
      "execution_count": 27,
      "outputs": [
        {
          "output_type": "stream",
          "name": "stdout",
          "text": [
            "Ingresa un año 1997\n",
            "el año que ingresaste no es bisiesto\n"
          ]
        }
      ]
    },
    {
      "cell_type": "markdown",
      "source": [
        "##9.Escriba un programa que solicite los coeficientes de la ecuación de la recta ax+b=0 y escriba la solución."
      ],
      "metadata": {
        "id": "8cEN2L4xkqfI"
      }
    },
    {
      "cell_type": "code",
      "source": [
        ""
      ],
      "metadata": {
        "id": "hnRvdag9krrh"
      },
      "execution_count": null,
      "outputs": []
    },
    {
      "cell_type": "markdown",
      "source": [
        "##10.Escriba un programa que halle la pendiente de la recta ax+b=c."
      ],
      "metadata": {
        "id": "EkRvqcy7ksWN"
      }
    },
    {
      "cell_type": "code",
      "source": [
        ""
      ],
      "metadata": {
        "id": "Tx55GM13kvFO"
      },
      "execution_count": null,
      "outputs": []
    },
    {
      "cell_type": "markdown",
      "source": [
        "##11.Escriba un programa que pida los coeficientes de una ecuación de segundo grado (a x² + b x + c = 0) y escriba la solución. \n",
        "\n",
        "Se recuerda que una ecuación de segundo grado puede no tener solución, tener una solución única, tener dos soluciones o que todos los números sean solución. Se recuerda que la fórmula de las soluciones cuando hay dos soluciones es x = (-b ± √(b2-4ac) ) / (2a) "
      ],
      "metadata": {
        "id": "ojPaRabpkvj3"
      }
    },
    {
      "cell_type": "code",
      "source": [
        ""
      ],
      "metadata": {
        "id": "VzCnobYRkyzT"
      },
      "execution_count": null,
      "outputs": []
    },
    {
      "cell_type": "markdown",
      "source": [
        "##12.Escriba un programa que sirva para evaluar si un estudiante sabe sumar, restar, multiplicar o dividir. Para ello, debe \n",
        "\n",
        "Solicitarle al usuario qué operación desea probar \n",
        "\n",
        "La operación que aparecerá deberá tener dos números aleatorios. \n",
        "\n",
        "El programa definirá si el usuario acertó, o no. "
      ],
      "metadata": {
        "id": "fclm2vAxk09j"
      }
    },
    {
      "cell_type": "code",
      "source": [
        ""
      ],
      "metadata": {
        "id": "X1obSnbRk3kY"
      },
      "execution_count": null,
      "outputs": []
    },
    {
      "cell_type": "markdown",
      "source": [
        "##13.Realizar programa que permita convertir: \n",
        "\n",
        "cm a metros \n",
        "\n",
        "cm a km \n",
        "\n",
        "metros a km \n",
        "\n",
        "km a cm \n",
        "\n",
        "km a  m. "
      ],
      "metadata": {
        "id": "RO9TL2wRk4A1"
      }
    },
    {
      "cell_type": "code",
      "source": [
        "print(\"1. cm a m\")\n",
        "print(\"2. cm a km\")\n",
        "print(\"3. m a km\")\n",
        "print(\"4. km a cm\")\n",
        "print(\"5. km a m\")\n",
        "\n",
        "x=int(input(\"seleccione una opcion de conversion de la lista \"))\n",
        "if x==1:\n",
        "  cm=float(input(\"ingresa los cm  \"))\n",
        "  print(f\"{cm} cm son {cm*0.01} m\")\n",
        "if x==2:\n",
        "  cm=float(input(\"ingresa los cm  \"))\n",
        "  print(f\"{cm} cm son {cm/100000} km\")\n",
        "if x==3:\n",
        "  m=float(input(\"ingresa los m  \"))\n",
        "  print(f\"{m} m son {m/1000} km\")\n",
        "if x==4:\n",
        "  km=float(input(\"ingresa los km  \"))\n",
        "  print(f\"{km} km son {km*100000} cm\")\n",
        "if x==5:\n",
        "  km=float(input(\"ingresa los km  \"))\n",
        "  print(f\"{km} km son {km*1000} m\")\n",
        "else:\n",
        "  print(\"No ingresaste una opcion de la lista \")\n",
        "  "
      ],
      "metadata": {
        "id": "DIsHTaTek6jS"
      },
      "execution_count": null,
      "outputs": []
    },
    {
      "cell_type": "markdown",
      "source": [
        "##14.Realizar un programa que solicite al usuario que escriba una letra, y defina si es vocal o consonante. El programa no debe funcionar (o indicar que es un error) si se intenta ingresar más de una letra o un número. "
      ],
      "metadata": {
        "id": "s1v6Rlnek7qF"
      }
    },
    {
      "cell_type": "code",
      "source": [
        "a=str(input(\"ingresa una letra\"))\n",
        "if a==\"a\" or a==\"e\" or a==\"i\" or a==\"o\" or a==\"u\":\n",
        "  print(\"ingresaste una vocal\")\n",
        "elif a==\"b\" or a==\"c\" or a==\"d\" or a==\"f\" or a==\"g\" or a==\"h\" or a==\"j\" or a==\"k\" or a==\"l\" or a==\"m\" or a==\"n\" or a==\"ñ\" or a==\"p\" or a==\"q\" or a==\"r\" or a==\"s\" or a==\"t\" or a==\"v\" or a==\"w\" or a==\"x\" or a==\"y\" or a==\"z\":\n",
        "  print(\"ingresaste una consonante\")\n",
        "else:\n",
        "  print(\"no ingresate una letra\")"
      ],
      "metadata": {
        "id": "f5AgN9i-k-XA",
        "colab": {
          "base_uri": "https://localhost:8080/"
        },
        "outputId": "a2d25fd4-2032-4e13-a00a-8c138b19d94c"
      },
      "execution_count": 66,
      "outputs": [
        {
          "output_type": "stream",
          "name": "stdout",
          "text": [
            "ingresa una letraa\n",
            "ingresaste una vocal\n"
          ]
        }
      ]
    },
    {
      "cell_type": "markdown",
      "source": [
        "##15.Escribir un programa que, dado un número entero, muestre su valor absoluto.\n",
        "\n"
      ],
      "metadata": {
        "id": "VmceWLVvk-9e"
      }
    },
    {
      "cell_type": "code",
      "source": [
        "x=float(input(\"Ingrese un numero entero \"))\n",
        "a=int(x)\n",
        "if a>0 and x==a:\n",
        "  print(\"el valor absoluto de\",x,\"es\",x)\n",
        "elif a<0 and x==a:\n",
        "  print(\"el valor absoluto de\",x,\"es\",(-1*x))\n",
        "else:\n",
        "  print(\"debes ingresar un numero entero\")"
      ],
      "metadata": {
        "id": "oBvKGIeNlBri",
        "colab": {
          "base_uri": "https://localhost:8080/"
        },
        "outputId": "413089f3-ea82-452b-8226-ed854742b8ea"
      },
      "execution_count": 131,
      "outputs": [
        {
          "output_type": "stream",
          "name": "stdout",
          "text": [
            "Ingrese un numero entero 2.8\n",
            "debes ingresar un numero entero\n"
          ]
        }
      ]
    },
    {
      "cell_type": "markdown",
      "source": [
        "##16.Realizar un programa que solicite al usuario que ingrese los nombres de dos usuarios los cuáles se almacenarán en user1 y user2. A continuación, imprimir “coincidencia” si los nombres de ambas personas comienzan con la misma letra o si terminan con la misma letra. Si no es así, imprimir “no hay coincidencia”. "
      ],
      "metadata": {
        "id": "7ED5ZgoRlCpw"
      }
    },
    {
      "cell_type": "code",
      "source": [
        ""
      ],
      "metadata": {
        "id": "IgddF6PblFQZ"
      },
      "execution_count": null,
      "outputs": []
    },
    {
      "cell_type": "markdown",
      "source": [
        "##17.Escribir un programa que le permita al usuario elegir un candidato por el cual votar: Candidato A por el partido Alfa, Candidato B, por el partido Beta, Candidato C por el partido gamma. Cuando el usuario introduce A, B o C, deberá imprimir por cuál candidato y partido ha votado. Si el usuario introduce otra letra, el programa debe indicarle que ha cometido un error. "
      ],
      "metadata": {
        "id": "gU46XfIslF4T"
      }
    },
    {
      "cell_type": "code",
      "source": [
        ""
      ],
      "metadata": {
        "id": "fnFEhcpklIoe"
      },
      "execution_count": null,
      "outputs": []
    },
    {
      "cell_type": "markdown",
      "source": [
        "##18.Escribir un programa que separe un número en sus unidades, decenas y centenas. "
      ],
      "metadata": {
        "id": "hhb1GpS9lKh1"
      }
    },
    {
      "cell_type": "code",
      "source": [
        ""
      ],
      "metadata": {
        "id": "K3mR7OhilL0c"
      },
      "execution_count": null,
      "outputs": []
    },
    {
      "cell_type": "markdown",
      "source": [
        "##19.Escribir un programa que lea una palabra y defina si es un palíndromo. NOTA: Un palíndromo es una palabra que se lee igual adelante y hacia atrás. "
      ],
      "metadata": {
        "id": "j4BzrzTnlOdD"
      }
    },
    {
      "cell_type": "code",
      "source": [
        ""
      ],
      "metadata": {
        "id": "ONA8xnNQlPkp"
      },
      "execution_count": null,
      "outputs": []
    },
    {
      "cell_type": "markdown",
      "source": [
        "##20.Escribir un programa que lea un número y defina si es o no un palíndromo."
      ],
      "metadata": {
        "id": "LtAQE142lP7e"
      }
    },
    {
      "cell_type": "code",
      "source": [
        ""
      ],
      "metadata": {
        "id": "K4ezWjf8lR5J"
      },
      "execution_count": null,
      "outputs": []
    }
  ]
}